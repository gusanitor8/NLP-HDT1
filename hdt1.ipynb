{
 "cells": [
  {
   "cell_type": "markdown",
   "id": "dde26be2",
   "metadata": {},
   "source": [
    "NOMBRES: Gustavo Andrés\n",
    "\n",
    "APELLIDOS: González Pineda\n",
    "\n",
    "CARNE: 21438\n",
    "\n",
    "FECHA: 11/07/2025"
   ]
  },
  {
   "cell_type": "markdown",
   "id": "71f8f645",
   "metadata": {},
   "source": [
    "## Reglas del comportamiento\n",
    "\n",
    "1. La conversación **solo puede comenzar si el usuario saluda**.  \n",
    "   Si no hay saludo inicial, Eliza debe responder:  \n",
    "   > \"Es importante iniciar una conversación con un saludo.\"\n",
    "\n",
    "2. Una vez iniciado con un saludo:\n",
    "   - Si el usuario menciona **el nombre del bot (\"Eliza\")**, debe responder:  \n",
    "     > \"Hola, ¿cómo estás?\"\n",
    "   - Si el usuario utiliza **un apodo ofensivo** (ej: \"tonta\"), debe responder:  \n",
    "     > \"No me trates así.\"\n",
    "   - Si el mensaje coincide con **uno de los 5 patrones definidos**, responde de forma adecuada.\n",
    "   - Si no coincide con nada anterior, responde con algo neutro como:  \n",
    "     > \"No puedo comprender tu comentario\""
   ]
  },
  {
   "cell_type": "markdown",
   "id": "b914be8a",
   "metadata": {},
   "source": [
    "## Instrucciones\n",
    "\n",
    "1. **Investiga la librería `re` de Python**  \n",
    "   Aprende a usar expresiones regulares con `re.match()`, `re.search()`, y la bandera `re.IGNORECASE`.\n",
    "\n",
    "2. **Debes de realizar un diagrama de flujo a mano de tu chatbot.**\n",
    "   ![Diagrama de flujo](./images/diagram.png)\n",
    "\n",
    "3. **Define saludos válidos como expresiones regulares**  \n",
    "   Tu bot debe reconocer como saludo:\n",
    "   - \"hola\"\n",
    "   - \"qué tal\"\n",
    "   - \"buenos días\"\n",
    "   - \"buenas tardes\"  \n",
    "   - Agregar mas al gusto\n",
    "\n",
    "4. **Implementa lógica para que el chatbot solo inicie si hay saludo**  \n",
    "   Si no hay saludo, responde: `\"Es importante iniciar una conversación con un saludo.\"`\n",
    "\n",
    "5. **Haz que el bot no distinga entre mayúsculas y minúsculas**  \n",
    "   Usa `re.IGNORECASE` en tus expresiones regulares.\n",
    "\n",
    "6. **Crea al menos 5 patrones de conversación**  \n",
    "   Usa expresiones como:\n",
    "   - \"Me siento (.*)\"\n",
    "   - \"Estoy (.*)\"\n",
    "   - \"Mi (.*)\"\n",
    "   - \"(.*) trabajo (.*)\"\n",
    "   - \"(.*)\\?\"\n",
    "\n",
    "   Puedes crear tus propios patrones. Usa `random.choice()` para variar las respuestas.\n",
    "\n",
    "6. **Reflexiona sobre errores ortográficos**  \n",
    "   responde:\n",
    "   - ¿El bot funciona con errores ortográficos?\n",
    "      No, el bot no funciona correctamente si el usuario comete errores ortográficos. Las expresiones regulares que se usan para detectar saludos y patrones de conversación esperan que las palabras estén bien escritas. Por ejemplo, si el usuario escribe “ola” en lugar de “hola”, el bot no reconocerá el saludo y no podrá continuar con la conversación.\n",
    "\n",
    "   - ¿Qué soluciones posibles propones? *(No es necesario implementarlo)*.\n",
    "   Algunas soluciones para mejorar la tolerancia a errores ortográficos pueden ser correctores automáticos, como las librerías pyspellchecker o TextBlob, que permiten corregir las palabras del input antes de analizarlas con expresiones regulares. Otra opción es implementar  fuzzy matching, utilizando herramientas como fuzzywuzzy o RapidFuzz para comparar el texto del usuario con los patrones esperados, permitiendo cierta flexibilidad ante errores de tipeo. También se podría expandir manualmente las expresiones regulares para incluir errores comunes (por ejemplo, aceptar “ola” o “buenas tardez”), aunque esta estrategia no es escalable."
   ]
  },
  {
   "cell_type": "code",
   "execution_count": 1,
   "id": "4cedce52",
   "metadata": {},
   "outputs": [],
   "source": [
    "import re\n",
    "import random"
   ]
  },
  {
   "cell_type": "code",
   "execution_count": 2,
   "id": "ca59ac66",
   "metadata": {},
   "outputs": [],
   "source": [
    "\n",
    "patrones_respuestas = [\n",
    "    (r\"\\b(hola|buenos dias|buenas tardes|que tal)\\b\", [\n",
    "        \"Hola, ¿en qué puedo ayudarte?\",\n",
    "        \"¡Qué gusto saludarte!\",\n",
    "        \"Hola, dime, ¿cómo te sientes hoy?\"\n",
    "    ]),\n",
    "    (r\"me siento (.*)\", [\n",
    "        \"¿Por qué te sientes {0}?\",\n",
    "        \"¿Desde cuándo te sientes {0}?\",\n",
    "        \"¿Qué crees que causa que te sientas {0}?\"\n",
    "    ]),\n",
    "    (r\"estoy (.*)\", [\n",
    "        \"¿Y cómo te hace sentir estar {0}?\",\n",
    "        \"¿Crees que estar {0} afecta tu día a día?\",\n",
    "        \"¿Qué podrías hacer respecto a estar {0}?\"\n",
    "    ]),\n",
    "    (r\"mi ([\\w\\s]+)\", [\n",
    "        \"Cuéntame más sobre tu {0}.\",\n",
    "        \"¿Por qué mencionas tu {0}?\",\n",
    "        \"¿Qué relación tienes con tu {0}?\"\n",
    "    ]),\n",
    "    (r\"(.*)trabajo(.*)\", [\n",
    "        \"Háblame más sobre tu trabajo.\",\n",
    "        \"¿Te sientes satisfecho con tu trabajo?\",\n",
    "        \"¿Qué cambiarías de tu situación laboral?\"\n",
    "    ]),\n",
    "    (r\"(.*)\\?\", [\n",
    "        \"¿Por qué te lo preguntas?\",\n",
    "        \"¿Qué opinas tú al respecto?\",\n",
    "        \"Esa es una buena pregunta. ¿Qué piensas tú?\"\n",
    "    ]),\n",
    "    (r\"\\b(tonta|idiota|estúpido|estupida|imbecil|estupido)\\b\", [\n",
    "        \"No me trates así.\"\n",
    "    ]),\n",
    "    (r\"\\b(eliza)\\b\", [\n",
    "        \"Hola, ¿cómo estás?\"\n",
    "    ])\n",
    "]"
   ]
  },
  {
   "cell_type": "code",
   "execution_count": 3,
   "id": "79cc01c8",
   "metadata": {},
   "outputs": [],
   "source": [
    "def responder(input_usuario: str, did_greet: bool) -> str:        \n",
    "\n",
    "    for patron, respuestas in patrones_respuestas:\n",
    "\n",
    "        # We check for a greeting \n",
    "        if not did_greet:\n",
    "\n",
    "            match = re.search(patron, input_usuario, re.IGNORECASE)\n",
    "            if match:\n",
    "                parte = match.group(1).strip()\n",
    "                did_greet = True\n",
    "                return random.choice(respuestas).format(parte), True\n",
    "            else:\n",
    "                return \"Es importante iniciar una conversación con un saludo.\", False\n",
    "\n",
    "        # Once we have greeted Eliza we can have a conversation\n",
    "        match = re.search(patron, input_usuario, re.IGNORECASE)\n",
    "        if match:\n",
    "            parte = match.group(1).strip()\n",
    "            return random.choice(respuestas).format(parte), True\n",
    "\n",
    "    return \"No puedo comprender tu comentario\", True\n",
    "\n",
    "def run() -> str:\n",
    "    print(\"Escribe 'adios' para salir\\n\")\n",
    "    to_run = True    \n",
    "    did_greet = False\n",
    "\n",
    "    while to_run:\n",
    "        message = str(input(\"Yo: \"))\n",
    "\n",
    "        # We check if user wants to exit the program\n",
    "        if message == 'adios':\n",
    "            print(\"Yo: adios\")\n",
    "            print(\"Eliza: bye!\")\n",
    "            break\n",
    "\n",
    "        response, did_greet = responder(message, did_greet)\n",
    "        print(f\"Yo: {message}\")\n",
    "        print(f\"Eliza: {response}\")\n",
    "        "
   ]
  },
  {
   "cell_type": "markdown",
   "id": "91ca1a5c",
   "metadata": {},
   "source": [
    "## Ejemplo Insulto"
   ]
  },
  {
   "cell_type": "code",
   "execution_count": 4,
   "id": "2fb42b22",
   "metadata": {},
   "outputs": [
    {
     "name": "stdout",
     "output_type": "stream",
     "text": [
      "Escribe 'adios' para salir\n",
      "\n",
      "Yo: hola\n",
      "Eliza: Hola, ¿en qué puedo ayudarte?\n",
      "Yo: tonta\n",
      "Eliza: No me trates así.\n",
      "Yo: adios\n",
      "Eliza: bye!\n"
     ]
    }
   ],
   "source": [
    "run()"
   ]
  },
  {
   "cell_type": "markdown",
   "id": "18c244f1",
   "metadata": {},
   "source": [
    "## Ejemplo Sin Saludo"
   ]
  },
  {
   "cell_type": "code",
   "execution_count": 5,
   "id": "ccb20336",
   "metadata": {},
   "outputs": [
    {
     "name": "stdout",
     "output_type": "stream",
     "text": [
      "Escribe 'adios' para salir\n",
      "\n",
      "Yo: me gusta la manzana\n",
      "Eliza: Es importante iniciar una conversación con un saludo.\n",
      "Yo: hola\n",
      "Eliza: ¡Qué gusto saludarte!\n",
      "Yo: estoy feliz\n",
      "Eliza: ¿Y cómo te hace sentir estar feliz?\n",
      "Yo: adios\n",
      "Eliza: bye!\n"
     ]
    }
   ],
   "source": [
    "run()"
   ]
  },
  {
   "cell_type": "markdown",
   "id": "c63a1ebc",
   "metadata": {},
   "source": [
    "## Ejemplo Eliza"
   ]
  },
  {
   "cell_type": "code",
   "execution_count": 6,
   "id": "a82acfd9",
   "metadata": {},
   "outputs": [
    {
     "name": "stdout",
     "output_type": "stream",
     "text": [
      "Escribe 'adios' para salir\n",
      "\n",
      "Yo: hola\n",
      "Eliza: ¡Qué gusto saludarte!\n",
      "Yo: eliza\n",
      "Eliza: Hola, ¿cómo estás?\n",
      "Yo: adios\n",
      "Eliza: bye!\n"
     ]
    }
   ],
   "source": [
    "run()"
   ]
  },
  {
   "cell_type": "markdown",
   "id": "682409d2",
   "metadata": {},
   "source": [
    "# Ejemplo Conversación"
   ]
  },
  {
   "cell_type": "code",
   "execution_count": 7,
   "id": "3562a0ba",
   "metadata": {},
   "outputs": [
    {
     "name": "stdout",
     "output_type": "stream",
     "text": [
      "Escribe 'adios' para salir\n",
      "\n",
      "Yo: hola\n",
      "Eliza: Hola, ¿en qué puedo ayudarte?\n",
      "Yo: mi trabajo es interesante\n",
      "Eliza: ¿Qué relación tienes con tu trabajo es interesante?\n",
      "Yo: adios\n",
      "Eliza: bye!\n"
     ]
    }
   ],
   "source": [
    "run()"
   ]
  }
 ],
 "metadata": {
  "kernelspec": {
   "display_name": "compvision",
   "language": "python",
   "name": "python3"
  },
  "language_info": {
   "codemirror_mode": {
    "name": "ipython",
    "version": 3
   },
   "file_extension": ".py",
   "mimetype": "text/x-python",
   "name": "python",
   "nbconvert_exporter": "python",
   "pygments_lexer": "ipython3",
   "version": "3.10.16"
  }
 },
 "nbformat": 4,
 "nbformat_minor": 5
}
